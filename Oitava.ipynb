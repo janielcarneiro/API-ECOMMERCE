{
  "nbformat": 4,
  "nbformat_minor": 0,
  "metadata": {
    "colab": {
      "provenance": [],
      "authorship_tag": "ABX9TyPU6atDq9/Puz+/IMGIWAFz",
      "include_colab_link": true
    },
    "kernelspec": {
      "name": "python3",
      "display_name": "Python 3"
    },
    "language_info": {
      "name": "python"
    }
  },
  "cells": [
    {
      "cell_type": "markdown",
      "metadata": {
        "id": "view-in-github",
        "colab_type": "text"
      },
      "source": [
        "<a href=\"https://colab.research.google.com/github/janielcarneiro/API-ECOMMERCE/blob/main/Oitava.ipynb\" target=\"_parent\"><img src=\"https://colab.research.google.com/assets/colab-badge.svg\" alt=\"Open In Colab\"/></a>"
      ]
    },
    {
      "cell_type": "code",
      "execution_count": 4,
      "metadata": {
        "colab": {
          "base_uri": "https://localhost:8080/"
        },
        "id": "RFBlyEVklksf",
        "outputId": "520b5a9a-f628-4cb4-e22e-fbef42340096"
      },
      "outputs": [
        {
          "output_type": "stream",
          "name": "stdout",
          "text": [
            "      user id                        product id Interaction type  \\\n",
            "0         1.0  4c69b61db1fc16e7013b43fc926e502d         purchase   \n",
            "1         2.0  66d49bbed043f5be260fa9f7fbff5957             view   \n",
            "2         3.0  2c55cae269aebf53838484b0d7dd931a             like   \n",
            "3         4.0  18018b6bc416dab347b1b7db79994afa             view   \n",
            "4         5.0  e04b990e95bf73bbe6a3fa09785d7cd0             like   \n",
            "...       ...                               ...              ...   \n",
            "3289      3.0                                 3                3   \n",
            "3290      3.0                                 3                3   \n",
            "3291      3.0                                 3                3   \n",
            "3292      3.0                                 3                3   \n",
            "3293      3.0                                 3                3   \n",
            "\n",
            "           Time stamp  Unnamed: 4  \n",
            "0     10/10/2023 8:00         3.0  \n",
            "1     11/10/2023 8:00         3.0  \n",
            "2     12/10/2023 8:00         3.0  \n",
            "3     13/10/2023 8:00         3.0  \n",
            "4     14/10/2023 8:00         3.0  \n",
            "...               ...         ...  \n",
            "3289                3         3.0  \n",
            "3290                3         3.0  \n",
            "3291                3         3.0  \n",
            "3292                3         3.0  \n",
            "3293                3         3.0  \n",
            "\n",
            "[3294 rows x 5 columns]\n"
          ]
        }
      ],
      "source": [
        "#para lidar com valores ausentes nois temos duas soluções abaixo como exemplo\n",
        "import pandas as pd\n",
        "\n",
        "dados = pd.read_csv('/content/sample_data/E-commerece sales data 2024.csv')\n",
        "#valore_ausentes = dados.isna() verificar valores ausentes\n",
        "\n",
        "#Prencher os dados ausentes\n",
        "valor = 3\n",
        "dados.fillna(3, inplace=True)\n",
        "\n",
        "#Remover os dados ausentes\n",
        "#dados.dropna(inplace=True)\n",
        "\n",
        "print(dados)"
      ]
    }
  ]
}